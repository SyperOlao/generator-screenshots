{
 "cells": [
  {
   "cell_type": "markdown",
   "metadata": {},
   "source": [
    "# Парсинг сайта https://tgads.su"
   ]
  },
  {
   "cell_type": "code",
   "execution_count": 218,
   "metadata": {},
   "outputs": [
    {
     "name": "stdout",
     "output_type": "stream",
     "text": [
      "Requirement already satisfied: pyppeteer in /Users/syper_olao/Desktop/program/programs/work/selenium/.venv/lib/python3.10/site-packages (2.0.0)\n",
      "Requirement already satisfied: importlib-metadata>=1.4 in /Users/syper_olao/Desktop/program/programs/work/selenium/.venv/lib/python3.10/site-packages (from pyppeteer) (7.0.1)\n",
      "Requirement already satisfied: websockets<11.0,>=10.0 in /Users/syper_olao/Desktop/program/programs/work/selenium/.venv/lib/python3.10/site-packages (from pyppeteer) (10.4)\n",
      "Requirement already satisfied: pyee<12.0.0,>=11.0.0 in /Users/syper_olao/Desktop/program/programs/work/selenium/.venv/lib/python3.10/site-packages (from pyppeteer) (11.1.0)\n",
      "Requirement already satisfied: tqdm<5.0.0,>=4.42.1 in /Users/syper_olao/Desktop/program/programs/work/selenium/.venv/lib/python3.10/site-packages (from pyppeteer) (4.66.2)\n",
      "Requirement already satisfied: certifi>=2023 in /Users/syper_olao/Desktop/program/programs/work/selenium/.venv/lib/python3.10/site-packages (from pyppeteer) (2024.2.2)\n",
      "Requirement already satisfied: appdirs<2.0.0,>=1.4.3 in /Users/syper_olao/Desktop/program/programs/work/selenium/.venv/lib/python3.10/site-packages (from pyppeteer) (1.4.4)\n",
      "Requirement already satisfied: urllib3<2.0.0,>=1.25.8 in /Users/syper_olao/Desktop/program/programs/work/selenium/.venv/lib/python3.10/site-packages (from pyppeteer) (1.26.18)\n",
      "Requirement already satisfied: zipp>=0.5 in /Users/syper_olao/Desktop/program/programs/work/selenium/.venv/lib/python3.10/site-packages (from importlib-metadata>=1.4->pyppeteer) (3.17.0)\n",
      "Requirement already satisfied: typing-extensions in /Users/syper_olao/Desktop/program/programs/work/selenium/.venv/lib/python3.10/site-packages (from pyee<12.0.0,>=11.0.0->pyppeteer) (4.9.0)\n",
      "\u001b[33mWARNING: You are using pip version 21.2.3; however, version 24.1.2 is available.\n",
      "You should consider upgrading via the '/Users/syper_olao/Desktop/program/programs/work/selenium/.venv/bin/python3 -m pip install --upgrade pip' command.\u001b[0m\n",
      "Requirement already satisfied: openpyxl in /Users/syper_olao/Desktop/program/programs/work/selenium/.venv/lib/python3.10/site-packages (3.1.5)\n",
      "Requirement already satisfied: et-xmlfile in /Users/syper_olao/Desktop/program/programs/work/selenium/.venv/lib/python3.10/site-packages (from openpyxl) (1.1.0)\n",
      "\u001b[33mWARNING: You are using pip version 21.2.3; however, version 24.1.2 is available.\n",
      "You should consider upgrading via the '/Users/syper_olao/Desktop/program/programs/work/selenium/.venv/bin/python3 -m pip install --upgrade pip' command.\u001b[0m\n"
     ]
    }
   ],
   "source": [
    "!pip3 install pyppeteer\n",
    "!pip3 install openpyxl"
   ]
  },
  {
   "cell_type": "code",
   "execution_count": 219,
   "metadata": {},
   "outputs": [],
   "source": [
    "from pyppeteer import launch\n",
    "from time import sleep"
   ]
  },
  {
   "cell_type": "markdown",
   "metadata": {},
   "source": [
    "### Connection to environment"
   ]
  },
  {
   "cell_type": "code",
   "execution_count": 220,
   "metadata": {},
   "outputs": [],
   "source": [
    "import os\n",
    "from pathlib import Path\n",
    "from dotenv import load_dotenv, dotenv_values\n",
    "\n",
    "dotenv_path = os.path.join(Path(os.path.abspath('')).parent.parent, \".env\")\n",
    "\n",
    "if os.path.exists(dotenv_path):\n",
    "    load_dotenv(dotenv_path)\n",
    "    \n",
    "config_env = os.environ if not os.path.exists(dotenv_path) else dotenv_values(\".env\")"
   ]
  },
  {
   "cell_type": "markdown",
   "metadata": {},
   "source": [
    "### Запуск браузера \n",
    "\n",
    "1. В режиме селениума с демонстрации действий\n",
    "2. В режиме движка"
   ]
  },
  {
   "cell_type": "code",
   "execution_count": 221,
   "metadata": {},
   "outputs": [],
   "source": [
    "browser = await launch(headless=False)\n",
    "# browser = await launch(\n",
    "#             headless=True, args=[\"--no-sandbox\", \"--disable-setuid-sandbox\"]\n",
    "#         )\n",
    "page = await browser.newPage()\n"
   ]
  },
  {
   "cell_type": "markdown",
   "metadata": {},
   "source": [
    "### Логин на сайт"
   ]
  },
  {
   "cell_type": "code",
   "execution_count": 222,
   "metadata": {},
   "outputs": [],
   "source": [
    "async def login_page():\n",
    "    await page.goto(\"https://tgads.su/auth\")\n",
    "    await page.click(\"#email\")\n",
    "    await page.type(\"#email\", config_env[\"TGADS_LOGIN\"])\n",
    "    \n",
    "    await page.click(\"#password\")\n",
    "    await page.type(\"#password\", config_env[\"TGADS_PASSWORD\"])\n",
    "    sleep(1)\n",
    "    await page.click('button[type=\"button\"]')\n",
    "    await page.waitForNavigation()\n",
    "    sleep(1)\n",
    "    \n",
    "await login_page()\n",
    "    "
   ]
  },
  {
   "cell_type": "markdown",
   "metadata": {},
   "source": [
    "### Функция запроса браузером данных по постам"
   ]
  },
  {
   "cell_type": "code",
   "execution_count": 223,
   "metadata": {},
   "outputs": [],
   "source": [
    "async def request_posts_data(data_from, data_to):\n",
    "    data = await page.evaluate(f'''\n",
    "            async () => {{\n",
    "                try {{\n",
    "                    const res = await fetch(\"https://tgads.su/cp/get?date_from={data_from}&date_to={data_to}&table=ads\", {{\n",
    "                        credentials: 'include',\n",
    "                    }});\n",
    "                    if (!res.ok) {{\n",
    "                        throw new Error(`HTTP error! status: ${{res.status}}`);\n",
    "                    }}\n",
    "                    const data = await res.json();\n",
    "                    return data; \n",
    "                }} catch (error) {{\n",
    "                    return {{error: error.toString()}}; \n",
    "                }}\n",
    "            }}\n",
    "        ''')\n",
    "    return data"
   ]
  },
  {
   "cell_type": "markdown",
   "metadata": {},
   "source": [
    "### Запрос от по дате\n",
    "date_from - дата начала\n",
    "date_to - дата завершения"
   ]
  },
  {
   "cell_type": "code",
   "execution_count": 224,
   "metadata": {},
   "outputs": [],
   "source": [
    "date_from=\"2024-07-18\"\n",
    "date_to=\"2024-07-18\"\n",
    "fetched_data = await request_posts_data(date_from, date_to)\n",
    "array_of_posts = fetched_data['data']\n"
   ]
  },
  {
   "cell_type": "markdown",
   "metadata": {},
   "source": [
    "### Запрос дополнительной информации по каждому посту"
   ]
  },
  {
   "cell_type": "code",
   "execution_count": 225,
   "metadata": {},
   "outputs": [],
   "source": [
    "async def request_post_data_by_id(id):\n",
    "    data = await page.evaluate(\n",
    "        f\"\"\"\n",
    "            async () => {{\n",
    "                try {{\n",
    "                   const res = await fetch(\"https://tgads.su/ad/preview/{id}\",{{\n",
    "                    credentials: 'include',\n",
    "                    headers: {{\n",
    "                        \"Content-Type\": \"application/json\",\n",
    "                    }},\n",
    "                   }});\n",
    "                    if (!res.ok) {{\n",
    "                        throw new Error(`HTTP error! status: {{res.status}}`);\n",
    "                    }}\n",
    "                    const data = await res.json();\n",
    "                    return data; \n",
    "                }} catch (error) {{\n",
    "                    return {{error: error.toString()}}; \n",
    "                }}\n",
    "            }}\n",
    "        \"\"\"\n",
    "    )\n",
    "    return data"
   ]
  },
  {
   "cell_type": "markdown",
   "metadata": {},
   "source": [
    "### Необходимые заголовки и их индексы"
   ]
  },
  {
   "cell_type": "code",
   "execution_count": 226,
   "metadata": {},
   "outputs": [],
   "source": [
    "headers = {\n",
    "    \"ad_id\": 1,\n",
    "    \"ad_title\": 2,\n",
    "    \"name_cab\": 3,\n",
    "    \"channel_id\": 4,\n",
    "    \"text\": 5,\n",
    "    \"status\": 6,\n",
    "    \"Spend\": 7,\n",
    "    \"Joined\": 8,\n",
    "    \"Impressions\": 9,\n",
    "    \"Clicks\": 10,\n",
    "    \"CPF\": 11,\n",
    "    \"CPM\": 12,\n",
    "    \"Budget\": 13,\n",
    "    \"date_start\": 14,\n",
    "    \"date_end\": 15,\n",
    "}"
   ]
  },
  {
   "cell_type": "markdown",
   "metadata": {},
   "source": [
    "### Работа с excel: создание столбцов из header"
   ]
  },
  {
   "cell_type": "code",
   "execution_count": 227,
   "metadata": {},
   "outputs": [],
   "source": [
    "import openpyxl\n",
    "\n",
    "wb = openpyxl.Workbook()\n",
    "ws = wb.active\n",
    "ws.title = \"Data\"\n",
    "\n",
    "headers_arr = list(headers.keys())\n",
    "for i in range(len(headers_arr)):\n",
    "    ws.cell(row=i+1, column=1, value=headers_arr[i])"
   ]
  },
  {
   "cell_type": "markdown",
   "metadata": {},
   "source": [
    "### Получение информации о канале"
   ]
  },
  {
   "cell_type": "code",
   "execution_count": 228,
   "metadata": {},
   "outputs": [],
   "source": [
    "async def request_post_channel(id):\n",
    "    fetched_data_2 = await request_post_data_by_id(id)\n",
    "    post_info = fetched_data_2[\"data\"][\"ad\"]\n",
    "    channel = post_info.get(\"channel\", {})\n",
    "    if isinstance(channel, list):\n",
    "        channel = {}\n",
    "    return channel, post_info"
   ]
  },
  {
   "cell_type": "markdown",
   "metadata": {},
   "source": [
    "### Запись данных в ячейку, при отсутсвии записываем '-'"
   ]
  },
  {
   "cell_type": "code",
   "execution_count": 229,
   "metadata": {},
   "outputs": [],
   "source": [
    "add_to_cell = lambda row, value: ws.cell(\n",
    "    row=row, column=column, value=value if value is not None else \"-\"\n",
    ")"
   ]
  },
  {
   "cell_type": "code",
   "execution_count": 230,
   "metadata": {},
   "outputs": [],
   "source": [
    "for index, post in enumerate(array_of_posts):\n",
    "\n",
    "    channel, post_info = await request_post_channel(post[\"system_ad_id\"])\n",
    "\n",
    "    column = index + 2\n",
    "    add_to_cell(headers[\"ad_id\"], post[\"system_ad_id\"])\n",
    "    add_to_cell(headers[\"ad_title\"], post[\"ad_title\"])\n",
    "    add_to_cell(headers[\"name_cab\"], channel.get(\"title\", None))\n",
    "    add_to_cell(headers[\"channel_id\"], channel.get(\"channel_id\", None))\n",
    "    add_to_cell(headers[\"text\"], post_info[\"text\"])\n",
    "    add_to_cell(headers[\"status\"], post[\"ad_status_text\"])\n",
    "    add_to_cell(headers[\"Spend\"], post[\"spent_budget\"])\n",
    "    add_to_cell(headers[\"Joined\"], value=post[\"joins\"])\n",
    "    add_to_cell(headers[\"Impressions\"], value=\"-\")\n",
    "    add_to_cell(headers[\"Clicks\"], value=post[\"clicks\"])\n",
    "    add_to_cell(headers[\"CPF\"], value=post[\"cpf\"])\n",
    "    add_to_cell(headers[\"CPM\"], value=post[\"cpm\"])\n",
    "    add_to_cell(headers[\"Budget\"], value=post[\"budget\"])\n",
    "    add_to_cell(headers[\"date_start\"], value=post[\"ad_created_at\"])\n",
    "    add_to_cell(headers[\"date_end\"], value=\"-\")"
   ]
  },
  {
   "cell_type": "markdown",
   "metadata": {},
   "source": [
    "### Сохраняем файл, закрываем браузер"
   ]
  },
  {
   "cell_type": "code",
   "execution_count": 231,
   "metadata": {},
   "outputs": [],
   "source": [
    "wb.save(\"post_data.xlsx\")\n",
    "await browser.close()"
   ]
  }
 ],
 "metadata": {
  "kernelspec": {
   "display_name": ".venv",
   "language": "python",
   "name": "python3"
  },
  "language_info": {
   "codemirror_mode": {
    "name": "ipython",
    "version": 3
   },
   "file_extension": ".py",
   "mimetype": "text/x-python",
   "name": "python",
   "nbconvert_exporter": "python",
   "pygments_lexer": "ipython3",
   "version": "3.10.0"
  }
 },
 "nbformat": 4,
 "nbformat_minor": 2
}
