{
 "cells": [
  {
   "cell_type": "code",
   "execution_count": 24,
   "metadata": {
    "ExecuteTime": {
     "end_time": "2024-01-04T18:00:51.687725Z",
     "start_time": "2024-01-04T18:00:49.297961Z"
    }
   },
   "outputs": [
    {
     "name": "stdout",
     "output_type": "stream",
     "text": [
      "Requirement already satisfied: requests in /Users/syper_olao/Desktop/program/programs/work/selenium/.venv/lib/python3.10/site-packages (2.31.0)\n",
      "Requirement already satisfied: urllib3<3,>=1.21.1 in /Users/syper_olao/Desktop/program/programs/work/selenium/.venv/lib/python3.10/site-packages (from requests) (1.26.18)\n",
      "Requirement already satisfied: charset-normalizer<4,>=2 in /Users/syper_olao/Desktop/program/programs/work/selenium/.venv/lib/python3.10/site-packages (from requests) (3.3.2)\n",
      "Requirement already satisfied: idna<4,>=2.5 in /Users/syper_olao/Desktop/program/programs/work/selenium/.venv/lib/python3.10/site-packages (from requests) (3.6)\n",
      "Requirement already satisfied: certifi>=2017.4.17 in /Users/syper_olao/Desktop/program/programs/work/selenium/.venv/lib/python3.10/site-packages (from requests) (2024.2.2)\n",
      "\u001B[33mWARNING: You are using pip version 21.2.3; however, version 24.1.2 is available.\n",
      "You should consider upgrading via the '/Users/syper_olao/Desktop/program/programs/work/selenium/.venv/bin/python3 -m pip install --upgrade pip' command.\u001B[0m\n",
      "Requirement already satisfied: pandas in /Users/syper_olao/Desktop/program/programs/work/selenium/.venv/lib/python3.10/site-packages (2.2.2)\n",
      "Requirement already satisfied: pytz>=2020.1 in /Users/syper_olao/Desktop/program/programs/work/selenium/.venv/lib/python3.10/site-packages (from pandas) (2024.1)\n",
      "Requirement already satisfied: python-dateutil>=2.8.2 in /Users/syper_olao/Desktop/program/programs/work/selenium/.venv/lib/python3.10/site-packages (from pandas) (2.9.0.post0)\n",
      "Requirement already satisfied: numpy>=1.22.4 in /Users/syper_olao/Desktop/program/programs/work/selenium/.venv/lib/python3.10/site-packages (from pandas) (1.26.4)\n",
      "Requirement already satisfied: tzdata>=2022.7 in /Users/syper_olao/Desktop/program/programs/work/selenium/.venv/lib/python3.10/site-packages (from pandas) (2024.1)\n",
      "Requirement already satisfied: six>=1.5 in /Users/syper_olao/Desktop/program/programs/work/selenium/.venv/lib/python3.10/site-packages (from python-dateutil>=2.8.2->pandas) (1.16.0)\n",
      "\u001B[33mWARNING: You are using pip version 21.2.3; however, version 24.1.2 is available.\n",
      "You should consider upgrading via the '/Users/syper_olao/Desktop/program/programs/work/selenium/.venv/bin/python3 -m pip install --upgrade pip' command.\u001B[0m\n",
      "Requirement already satisfied: openpyxl in /Users/syper_olao/Desktop/program/programs/work/selenium/.venv/lib/python3.10/site-packages (3.1.5)\n",
      "Requirement already satisfied: et-xmlfile in /Users/syper_olao/Desktop/program/programs/work/selenium/.venv/lib/python3.10/site-packages (from openpyxl) (1.1.0)\n",
      "\u001B[33mWARNING: You are using pip version 21.2.3; however, version 24.1.2 is available.\n",
      "You should consider upgrading via the '/Users/syper_olao/Desktop/program/programs/work/selenium/.venv/bin/python3 -m pip install --upgrade pip' command.\u001B[0m\n"
     ]
    }
   ],
   "source": [
    "!pip3 install requests\n",
    "!pip3 install pandas\n",
    "!pip3 install openpyxl"
   ]
  },
  {
   "cell_type": "code",
   "execution_count": 25,
   "metadata": {
    "ExecuteTime": {
     "end_time": "2024-01-04T18:00:52.141989Z",
     "start_time": "2024-01-04T18:00:51.690493Z"
    }
   },
   "outputs": [],
   "source": [
    "# import pandas as pd\n",
    "\n",
    "# csv_data = pd.read_csv(\"users.csv\", sep=';', on_bad_lines='skip')\n",
    "# csv_data"
   ]
  },
  {
   "cell_type": "code",
   "execution_count": 26,
   "metadata": {},
   "outputs": [],
   "source": [
    "from openpyxl import load_workbook\n",
    "import string\n",
    "import secrets\n",
    "import csv\n",
    "import requests\n",
    "import json"
   ]
  },
  {
   "cell_type": "code",
   "execution_count": 27,
   "metadata": {},
   "outputs": [],
   "source": [
    "wb = load_workbook('users.xlsx')"
   ]
  },
  {
   "cell_type": "code",
   "execution_count": 28,
   "metadata": {},
   "outputs": [],
   "source": [
    "sheet_names = wb.sheetnames"
   ]
  },
  {
   "cell_type": "code",
   "execution_count": 29,
   "metadata": {},
   "outputs": [],
   "source": [
    "def generate_password():\n",
    "    alphabet = string.ascii_letters + string.digits\n",
    "    return ''.join(secrets.choice(alphabet) for _ in range(10))"
   ]
  },
  {
   "cell_type": "code",
   "execution_count": 30,
   "metadata": {},
   "outputs": [],
   "source": [
    "API_ENDPOINT = \"http://localhost:3000/apiv/registration\"\n",
    "\n",
    "sheet = wb[sheet_names[0]]"
   ]
  },
  {
   "cell_type": "code",
   "execution_count": 31,
   "metadata": {},
   "outputs": [],
   "source": [
    "def user_register(user):\n",
    "    try:\n",
    "        requests.post(url=API_ENDPOINT, data=json.dumps(user) , headers= {\n",
    "           'Access-Control-Allow-Origin': '*',\n",
    "           'Content-Type': 'application/json'\n",
    "        })\n",
    "\n",
    "    except Exception as err:\n",
    "        print(err)"
   ]
  },
  {
   "cell_type": "code",
   "execution_count": null,
   "metadata": {},
   "outputs": [],
   "source": [
    "data_list = []\n",
    "\n",
    "for row in sheet.iter_rows(2, values_only=True):\n",
    "\n",
    "    email = row[4]\n",
    "    print(email)\n",
    "    data = {\n",
    "      \"password\": generate_password(),\n",
    "      \"name\":  row[1],\n",
    "      \"email\": email,\n",
    "      \"login\": email.split('@')[0],\n",
    "      \"roleId\": 1,\n",
    "      \"gender\": 2\n",
    "    }\n",
    "    \n",
    "    data_list.append(data)\n",
    "    \n",
    "    user_register(data)\n",
    "\n",
    "    \n",
    "with open('data.csv', 'w', newline='') as csv_file:  # Используйте 'a' для добавления новых записей\n",
    "      writer = csv.DictWriter(csv_file, fieldnames=data.keys())\n",
    "      if csv_file.tell() == 0:  # Проверяем, начинаем ли мы новую запись\n",
    "          writer.writeheader()\n",
    "      writer.writerows(data_list)\n",
    "\n",
    "    \n",
    "    "
   ]
  }
 ],
 "metadata": {
  "kernelspec": {
   "display_name": "Python 3",
   "language": "python",
   "name": "python3"
  },
  "language_info": {
   "codemirror_mode": {
    "name": "ipython",
    "version": 3
   },
   "file_extension": ".py",
   "mimetype": "text/x-python",
   "name": "python",
   "nbconvert_exporter": "python",
   "pygments_lexer": "ipython3",
   "version": "3.10.0"
  }
 },
 "nbformat": 4,
 "nbformat_minor": 2
}
