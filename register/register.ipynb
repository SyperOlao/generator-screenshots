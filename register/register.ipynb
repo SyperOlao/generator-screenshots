{
 "cells": [
  {
   "cell_type": "markdown",
   "metadata": {},
   "source": [
    "## Регистрация пользователей "
   ]
  },
  {
   "cell_type": "code",
   "execution_count": 274,
   "metadata": {
    "ExecuteTime": {
     "end_time": "2024-01-04T18:00:51.687725Z",
     "start_time": "2024-01-04T18:00:49.297961Z"
    }
   },
   "outputs": [
    {
     "name": "stdout",
     "output_type": "stream",
     "text": [
      "Requirement already satisfied: requests in /Users/syper_olao/Desktop/program/programs/work/selenium/.venv/lib/python3.10/site-packages (2.31.0)\n",
      "Requirement already satisfied: urllib3<3,>=1.21.1 in /Users/syper_olao/Desktop/program/programs/work/selenium/.venv/lib/python3.10/site-packages (from requests) (1.26.18)\n",
      "Requirement already satisfied: certifi>=2017.4.17 in /Users/syper_olao/Desktop/program/programs/work/selenium/.venv/lib/python3.10/site-packages (from requests) (2024.2.2)\n",
      "Requirement already satisfied: idna<4,>=2.5 in /Users/syper_olao/Desktop/program/programs/work/selenium/.venv/lib/python3.10/site-packages (from requests) (3.6)\n",
      "Requirement already satisfied: charset-normalizer<4,>=2 in /Users/syper_olao/Desktop/program/programs/work/selenium/.venv/lib/python3.10/site-packages (from requests) (3.3.2)\n",
      "\u001b[33mWARNING: You are using pip version 21.2.3; however, version 24.2 is available.\n",
      "You should consider upgrading via the '/Users/syper_olao/Desktop/program/programs/work/selenium/.venv/bin/python3 -m pip install --upgrade pip' command.\u001b[0m\n",
      "Requirement already satisfied: pandas in /Users/syper_olao/Desktop/program/programs/work/selenium/.venv/lib/python3.10/site-packages (2.2.2)\n",
      "Requirement already satisfied: numpy>=1.22.4 in /Users/syper_olao/Desktop/program/programs/work/selenium/.venv/lib/python3.10/site-packages (from pandas) (1.26.4)\n",
      "Requirement already satisfied: tzdata>=2022.7 in /Users/syper_olao/Desktop/program/programs/work/selenium/.venv/lib/python3.10/site-packages (from pandas) (2024.1)\n",
      "Requirement already satisfied: pytz>=2020.1 in /Users/syper_olao/Desktop/program/programs/work/selenium/.venv/lib/python3.10/site-packages (from pandas) (2024.1)\n",
      "Requirement already satisfied: python-dateutil>=2.8.2 in /Users/syper_olao/Desktop/program/programs/work/selenium/.venv/lib/python3.10/site-packages (from pandas) (2.9.0.post0)\n",
      "Requirement already satisfied: six>=1.5 in /Users/syper_olao/Desktop/program/programs/work/selenium/.venv/lib/python3.10/site-packages (from python-dateutil>=2.8.2->pandas) (1.16.0)\n",
      "\u001b[33mWARNING: You are using pip version 21.2.3; however, version 24.2 is available.\n",
      "You should consider upgrading via the '/Users/syper_olao/Desktop/program/programs/work/selenium/.venv/bin/python3 -m pip install --upgrade pip' command.\u001b[0m\n",
      "Requirement already satisfied: openpyxl in /Users/syper_olao/Desktop/program/programs/work/selenium/.venv/lib/python3.10/site-packages (3.1.5)\n",
      "Requirement already satisfied: et-xmlfile in /Users/syper_olao/Desktop/program/programs/work/selenium/.venv/lib/python3.10/site-packages (from openpyxl) (1.1.0)\n",
      "\u001b[33mWARNING: You are using pip version 21.2.3; however, version 24.2 is available.\n",
      "You should consider upgrading via the '/Users/syper_olao/Desktop/program/programs/work/selenium/.venv/bin/python3 -m pip install --upgrade pip' command.\u001b[0m\n"
     ]
    }
   ],
   "source": [
    "!pip3 install requests\n",
    "!pip3 install pandas\n",
    "!pip3 install openpyxl"
   ]
  },
  {
   "cell_type": "markdown",
   "metadata": {},
   "source": [
    "### Connection to environment"
   ]
  },
  {
   "cell_type": "code",
   "execution_count": 275,
   "metadata": {},
   "outputs": [
    {
     "name": "stdout",
     "output_type": "stream",
     "text": [
      "/Users/syper_olao/Desktop/program/programs/work/selenium/register/.env\n"
     ]
    }
   ],
   "source": [
    "import os\n",
    "from pathlib import Path\n",
    "from dotenv import load_dotenv, dotenv_values\n",
    "\n",
    "dotenv_path = os.path.join(Path(os.path.abspath('')), \".env\")\n",
    "print(dotenv_path)\n",
    "if os.path.exists(dotenv_path):\n",
    "    load_dotenv(dotenv_path)\n",
    "    \n",
    "config_env = os.environ if not os.path.exists(dotenv_path) else dotenv_values(\".env\")"
   ]
  },
  {
   "cell_type": "code",
   "execution_count": 276,
   "metadata": {
    "ExecuteTime": {
     "end_time": "2024-01-04T18:00:52.141989Z",
     "start_time": "2024-01-04T18:00:51.690493Z"
    }
   },
   "outputs": [],
   "source": [
    "# import pandas as pd\n",
    "\n",
    "# csv_data = pd.read_csv(\"users.csv\", sep=';', on_bad_lines='skip')\n",
    "# csv_data"
   ]
  },
  {
   "cell_type": "code",
   "execution_count": 277,
   "metadata": {},
   "outputs": [],
   "source": [
    "from openpyxl import load_workbook\n",
    "\n",
    "wb = load_workbook(\"users.xlsx\")"
   ]
  },
  {
   "cell_type": "code",
   "execution_count": 278,
   "metadata": {},
   "outputs": [],
   "source": [
    "sheet_names = wb.sheetnames"
   ]
  },
  {
   "cell_type": "code",
   "execution_count": 279,
   "metadata": {},
   "outputs": [],
   "source": [
    "import string\n",
    "import secrets\n",
    "\n",
    "\n",
    "def generate_password():\n",
    "    alphabet = string.ascii_letters + string.digits\n",
    "    return \"\".join(secrets.choice(alphabet) for _ in range(10))"
   ]
  },
  {
   "cell_type": "code",
   "execution_count": 280,
   "metadata": {},
   "outputs": [],
   "source": [
    "API_ENDPOINT = \"http://localhost:3000/apiv\"\n",
    "\n",
    "sheet = wb[sheet_names[0]]"
   ]
  },
  {
   "cell_type": "code",
   "execution_count": 281,
   "metadata": {},
   "outputs": [],
   "source": [
    "from typing import Any\n",
    "\n",
    "\n",
    "class User:\n",
    "    accessToken: str | None\n",
    "    refreshToken: str | None\n",
    "    me: Any"
   ]
  },
  {
   "cell_type": "code",
   "execution_count": 282,
   "metadata": {},
   "outputs": [],
   "source": [
    "import requests\n",
    "import json\n",
    "from requests.exceptions import RequestException\n",
    "\n",
    "\n",
    "class BaseApi:\n",
    "    def __init__(self, base_url, access):\n",
    "        self.base_url = base_url\n",
    "        self.session = requests.Session()\n",
    "        self.access = access\n",
    "\n",
    "    def _get_access_token(self):\n",
    "        # Реализуйте функцию чтения токена доступа\n",
    "        return self.access  # Замените на ваш метод чтения токена\n",
    "\n",
    "    def _refresh_token(self, id, refresh_token):\n",
    "        # Реализуйте функцию обновления токена\n",
    "        response = self.session.get(f\"{self.base_url}/auth/{id}/{refresh_token}\")\n",
    "        response.raise_for_status()\n",
    "        return response.json()\n",
    "\n",
    "    def request(self, method, url, **kwargs):\n",
    "        access_token = self._get_access_token()\n",
    "        headers = kwargs.get(\"headers\", {})\n",
    "        if access_token:\n",
    "            headers[\"Authorization\"] = f\"Bearer {access_token}\"\n",
    "        kwargs[\"headers\"] = headers\n",
    "\n",
    "        if \"json\" in kwargs:\n",
    "            kwargs[\"data\"] = json.dumps(kwargs[\"json\"])\n",
    "            del kwargs[\"json\"]\n",
    "\n",
    "        try:\n",
    "            response = self.session.request(method, f\"{self.base_url}{url}\", **kwargs)\n",
    "            print(response.status_code)\n",
    "            response.raise_for_status()\n",
    "            return response.json()\n",
    "        except RequestException as error:\n",
    "            print(str(error))\n",
    "            if response.status_code == 401:\n",
    "                raise ApiError(error.response.json().get(\"message\", str(error)))\n",
    "\n",
    "\n",
    "class ApiError(Exception):\n",
    "    def __init__(self, message):\n",
    "        super().__init__(message)"
   ]
  },
  {
   "cell_type": "code",
   "execution_count": 283,
   "metadata": {},
   "outputs": [],
   "source": [
    "def login_to_app(login, password):\n",
    "    try:\n",
    "        r = requests.post(\n",
    "            url=f\"{API_ENDPOINT}/auth\",\n",
    "            data=json.dumps({\"login\": login, \"password\": password}),\n",
    "            headers={\n",
    "                \"Access-Control-Allow-Origin\": \"*\",\n",
    "                \"Cache-Control\": \"no-cache\",\n",
    "                \"Content-Type\": \"application/json\",\n",
    "            },\n",
    "        )\n",
    "        print(r)\n",
    "        print(r.status_code)\n",
    "        if r.status_code == 200:\n",
    "            return r.json()\n",
    "        else:\n",
    "            return None\n",
    "    except Exception as err:\n",
    "        print(err)"
   ]
  },
  {
   "cell_type": "code",
   "execution_count": 284,
   "metadata": {},
   "outputs": [
    {
     "name": "stdout",
     "output_type": "stream",
     "text": [
      "<Response [200]>\n",
      "200\n"
     ]
    }
   ],
   "source": [
    "login_response = login_to_app(config_env['LOGIN'], config_env['PASSWORD'])"
   ]
  },
  {
   "cell_type": "code",
   "execution_count": 285,
   "metadata": {},
   "outputs": [],
   "source": [
    "api = BaseApi(base_url=API_ENDPOINT, access=login_response.get('accessToken'))"
   ]
  },
  {
   "cell_type": "code",
   "execution_count": 286,
   "metadata": {},
   "outputs": [],
   "source": [
    "def user_register(user):\n",
    "    try:\n",
    "        api.request(\n",
    "            'POST',\n",
    "            url=f\"/registration\",\n",
    "            json=user,\n",
    "            headers={\n",
    "                \"Access-Control-Allow-Origin\": \"*\",\n",
    "                \"Content-Type\": \"application/json\",\n",
    "            },\n",
    "        )\n",
    "    except Exception as err:\n",
    "        print(err)"
   ]
  },
  {
   "cell_type": "code",
   "execution_count": 287,
   "metadata": {},
   "outputs": [],
   "source": [
    "data_list = []"
   ]
  },
  {
   "cell_type": "code",
   "execution_count": 288,
   "metadata": {},
   "outputs": [
    {
     "name": "stdout",
     "output_type": "stream",
     "text": [
      "201\n",
      "201\n"
     ]
    }
   ],
   "source": [
    "for row in sheet.iter_rows(2, values_only=True):\n",
    "    if row is None or all(value is None for value in row):\n",
    "        continue\n",
    "\n",
    "    email = row[4]\n",
    "    data = {\n",
    "        \"password\": generate_password(),\n",
    "        \"name\": row[1],\n",
    "        \"email\": email,\n",
    "        \"login\": email.split(\"@\")[0],\n",
    "        \"roleId\": 1,\n",
    "        \"gender\": 2,\n",
    "    }\n",
    "\n",
    "    data_list.append(data)\n",
    "\n",
    "    user_register(data)"
   ]
  },
  {
   "cell_type": "code",
   "execution_count": 289,
   "metadata": {},
   "outputs": [],
   "source": [
    "import csv\n",
    "\n",
    "with open(\"data.csv\", \"w\", newline=\"\") as csv_file:\n",
    "    writer = csv.DictWriter(csv_file, fieldnames=data.keys())\n",
    "    if csv_file.tell() == 0:\n",
    "        writer.writeheader()\n",
    "    writer.writerows(data_list)"
   ]
  }
 ],
 "metadata": {
  "kernelspec": {
   "display_name": "Python 3",
   "language": "python",
   "name": "python3"
  },
  "language_info": {
   "codemirror_mode": {
    "name": "ipython",
    "version": 3
   },
   "file_extension": ".py",
   "mimetype": "text/x-python",
   "name": "python",
   "nbconvert_exporter": "python",
   "pygments_lexer": "ipython3",
   "version": "3.10.0"
  }
 },
 "nbformat": 4,
 "nbformat_minor": 2
}
